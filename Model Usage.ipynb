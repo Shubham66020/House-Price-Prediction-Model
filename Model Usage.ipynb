{
 "cells": [
  {
   "cell_type": "code",
   "execution_count": 15,
   "id": "0431dce4-2720-4d6b-9626-5dd8269cc27c",
   "metadata": {},
   "outputs": [
    {
     "data": {
      "text/plain": [
       "array([23.519])"
      ]
     },
     "execution_count": 15,
     "metadata": {},
     "output_type": "execute_result"
    }
   ],
   "source": [
    "from joblib import dump, load\n",
    "model = load('Housing.joblib')\n",
    "\n",
    "import numpy as np\n",
    "features = np.array([[-0.43942006,  7.12628155, -1.12165014, -0.27288841, -1.42262747,\n",
    "       -11.23979304, -99.31238772,  90.61111401, -1.0016859 , -90.5778192 ,\n",
    "       -0.97491834,  0.41164221, -0.86091034]])\n",
    "model.predict(features)"
   ]
  },
  {
   "cell_type": "code",
   "execution_count": null,
   "id": "bc25238f-02d3-4554-8871-e7c201e4c76e",
   "metadata": {},
   "outputs": [],
   "source": []
  }
 ],
 "metadata": {
  "kernelspec": {
   "display_name": "Python 3 (ipykernel)",
   "language": "python",
   "name": "python3"
  },
  "language_info": {
   "codemirror_mode": {
    "name": "ipython",
    "version": 3
   },
   "file_extension": ".py",
   "mimetype": "text/x-python",
   "name": "python",
   "nbconvert_exporter": "python",
   "pygments_lexer": "ipython3",
   "version": "3.11.5"
  }
 },
 "nbformat": 4,
 "nbformat_minor": 5
}
